{
 "cells": [
  {
   "cell_type": "markdown",
   "metadata": {},
   "source": [
    "1. Importing Libraries and Data Set"
   ]
  },
  {
   "cell_type": "code",
   "execution_count": null,
   "metadata": {},
   "outputs": [],
   "source": [
    "# Importing Libraries\n",
    "import pandas as pd"
   ]
  },
  {
   "cell_type": "code",
   "execution_count": null,
   "metadata": {},
   "outputs": [],
   "source": [
    "# Load the dataset\n",
    "file_path = \"critic_reviews.csv\"  # Update the path if necessary\n",
    "df = pd.read_csv(file_path)"
   ]
  },
  {
   "cell_type": "markdown",
   "metadata": {},
   "source": [
    "2. Inspecting the Dataset"
   ]
  },
  {
   "cell_type": "code",
   "execution_count": null,
   "metadata": {},
   "outputs": [],
   "source": [
    "print(df.head())          # View the first few rows\n",
    "print(df.info())          # Check column data types and non-null values\n",
    "print(df.describe())      # Summary statistics for numerical columns\n",
    "print(df.isnull().sum())  # Count of missing values per column"
   ]
  },
  {
   "cell_type": "markdown",
   "metadata": {},
   "source": [
    "3. Data Cleaning"
   ]
  },
  {
   "cell_type": "code",
   "execution_count": null,
   "metadata": {},
   "outputs": [],
   "source": [
    "# Handling Missing Values\n",
    "df['criticName'] = df['criticName'].fillna(\"n/a\")\n",
    "df['criticPageUrl'] = df['criticPageUrl'].fillna(\"n/a\")\n",
    "\n",
    "# Using a placehold for missing numerical values\n",
    "df['originalScore'] = df['originalScore'].fillna(0)  # Replace with 0\n",
    "\n",
    "# Dropping irrelevant columns with missing values\n",
    "df = df.drop(columns = ['isRtUrl', 'reviewUrl', 'quote', 'publicationUrl'], errors = 'ignore')\n",
    "\n",
    "print(df.isnull().sum()) # Testing to make sure missing values are handled"
   ]
  },
  {
   "cell_type": "code",
   "execution_count": null,
   "metadata": {},
   "outputs": [],
   "source": [
    "# Handling different inputs for originalScore\n",
    "\n",
    "def clean_original_score(value):\n",
    "    # Handle missing or placeholder values\n",
    "    if value == \"-1\" or pd.isnull(value):\n",
    "        return None  # Replace with NULL for SQL\n",
    "    \n",
    "    # Handle fractions like \"2.5/4\" or \"76/100\"\n",
    "    if isinstance(value, str) and \"/\" in value:\n",
    "        try:\n",
    "            numerator, denominator = map(float, value.split(\"/\"))\n",
    "            return numerator / denominator  # Convert to decimal\n",
    "        except ValueError:\n",
    "            return None  # If it fails to split correctly\n",
    "    \n",
    "    # Handle letter grades\n",
    "    letter_to_score = {\n",
    "        \"A\": 4.0, \"A-\": 3.7, \"B+\": 3.3, \"B\": 3.0, \"B-\": 2.7,\n",
    "        \"C+\": 2.3, \"C\": 2.0, \"C-\": 1.7, \"D\": 1.0, \"F\": 0.0\n",
    "    }\n",
    "    if value in letter_to_score:\n",
    "        return letter_to_score[value]\n",
    "    \n",
    "    # Handle date-like values (e.g., \"5-Apr\")\n",
    "    months = [\"jan\", \"feb\", \"mar\", \"apr\", \"may\", \"jun\", \"jul\", \"aug\", \"sep\", \"oct\", \"nov\", \"dec\"]\n",
    "    if isinstance(value, str) and any(month in value.lower() for month in months):\n",
    "        return None  # Replace with NULL for SQL\n",
    "    \n",
    "    # Handle direct numerical scores\n",
    "    try:\n",
    "        return float(value)\n",
    "    except ValueError:\n",
    "        return None  # If it can't be converted, replace with NULL\n",
    "\n",
    "df[\"originalScore\"] = df[\"originalScore\"].apply(clean_original_score)"
   ]
  },
  {
   "cell_type": "code",
   "execution_count": null,
   "metadata": {},
   "outputs": [
    {
     "name": "stdout",
     "output_type": "stream",
     "text": [
      "0\n"
     ]
    }
   ],
   "source": [
    "# Checking for Duplicates\n",
    "print(df.duplicated(subset=['reviewId']).sum())"
   ]
  },
  {
   "cell_type": "code",
   "execution_count": null,
   "metadata": {},
   "outputs": [],
   "source": [
    "# Standardizing Columns\n",
    "df['criticName'] = df['criticName'].str.lower()                 #Converting to lowercase for uniformity\n",
    "df['publicationName'] = df['publicationName'].str.lower()       #Converting to lowercase for uniformity\n"
   ]
  },
  {
   "cell_type": "code",
   "execution_count": null,
   "metadata": {},
   "outputs": [],
   "source": [
    "# Exporting cleaned dataset\n",
    "df.to_csv(\"cleaned_originalScore.csv\", index=False)"
   ]
  }
 ],
 "metadata": {
  "kernelspec": {
   "display_name": "Python 3",
   "language": "python",
   "name": "python3"
  },
  "language_info": {
   "codemirror_mode": {
    "name": "ipython",
    "version": 3
   },
   "file_extension": ".py",
   "mimetype": "text/x-python",
   "name": "python",
   "nbconvert_exporter": "python",
   "pygments_lexer": "ipython3",
   "version": "3.12.7"
  }
 },
 "nbformat": 4,
 "nbformat_minor": 2
}
