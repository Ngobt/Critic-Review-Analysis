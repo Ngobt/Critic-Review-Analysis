{
 "cells": [
  {
   "cell_type": "markdown",
   "metadata": {},
   "source": [
    "1. Importing Libraries and Data Set"
   ]
  },
  {
   "cell_type": "code",
   "execution_count": 5,
   "metadata": {},
   "outputs": [
    {
     "ename": "ModuleNotFoundError",
     "evalue": "No module named 'urllib3.packages.six.moves'",
     "output_type": "error",
     "traceback": [
      "\u001b[1;31m---------------------------------------------------------------------------\u001b[0m",
      "\u001b[1;31mModuleNotFoundError\u001b[0m                       Traceback (most recent call last)",
      "Cell \u001b[1;32mIn[5], line 3\u001b[0m\n\u001b[0;32m      1\u001b[0m \u001b[38;5;66;03m# Importing Libraries\u001b[39;00m\n\u001b[0;32m      2\u001b[0m \u001b[38;5;28;01mimport\u001b[39;00m \u001b[38;5;21;01mpandas\u001b[39;00m \u001b[38;5;28;01mas\u001b[39;00m \u001b[38;5;21;01mpd\u001b[39;00m\n\u001b[1;32m----> 3\u001b[0m \u001b[38;5;28;01mimport\u001b[39;00m \u001b[38;5;21;01mrequests\u001b[39;00m\n",
      "File \u001b[1;32m~\\AppData\\Local\\Packages\\PythonSoftwareFoundation.Python.3.12_qbz5n2kfra8p0\\LocalCache\\local-packages\\Python312\\site-packages\\requests\\__init__.py:43\u001b[0m\n\u001b[0;32m      1\u001b[0m \u001b[38;5;66;03m# -*- coding: utf-8 -*-\u001b[39;00m\n\u001b[0;32m      2\u001b[0m \n\u001b[0;32m      3\u001b[0m \u001b[38;5;66;03m#   __\u001b[39;00m\n\u001b[0;32m      4\u001b[0m \u001b[38;5;66;03m#  /__)  _  _     _   _ _/   _\u001b[39;00m\n\u001b[0;32m      5\u001b[0m \u001b[38;5;66;03m# / (   (- (/ (/ (- _)  /  _)\u001b[39;00m\n\u001b[0;32m      6\u001b[0m \u001b[38;5;66;03m#          /\u001b[39;00m\n\u001b[0;32m      8\u001b[0m \u001b[38;5;124;03m\"\"\"\u001b[39;00m\n\u001b[0;32m      9\u001b[0m \u001b[38;5;124;03mRequests HTTP Library\u001b[39;00m\n\u001b[0;32m     10\u001b[0m \u001b[38;5;124;03m~~~~~~~~~~~~~~~~~~~~~\u001b[39;00m\n\u001b[1;32m   (...)\u001b[0m\n\u001b[0;32m     40\u001b[0m \u001b[38;5;124;03m:license: Apache 2.0, see LICENSE for more details.\u001b[39;00m\n\u001b[0;32m     41\u001b[0m \u001b[38;5;124;03m\"\"\"\u001b[39;00m\n\u001b[1;32m---> 43\u001b[0m \u001b[38;5;28;01mimport\u001b[39;00m \u001b[38;5;21;01murllib3\u001b[39;00m\n\u001b[0;32m     44\u001b[0m \u001b[38;5;28;01mimport\u001b[39;00m \u001b[38;5;21;01mchardet\u001b[39;00m\n\u001b[0;32m     45\u001b[0m \u001b[38;5;28;01mimport\u001b[39;00m \u001b[38;5;21;01mwarnings\u001b[39;00m\n",
      "File \u001b[1;32m~\\AppData\\Local\\Packages\\PythonSoftwareFoundation.Python.3.12_qbz5n2kfra8p0\\LocalCache\\local-packages\\Python312\\site-packages\\urllib3\\__init__.py:11\u001b[0m\n\u001b[0;32m      8\u001b[0m \u001b[38;5;28;01mimport\u001b[39;00m \u001b[38;5;21;01mwarnings\u001b[39;00m\n\u001b[0;32m      9\u001b[0m \u001b[38;5;28;01mfrom\u001b[39;00m \u001b[38;5;21;01mlogging\u001b[39;00m \u001b[38;5;28;01mimport\u001b[39;00m NullHandler\n\u001b[1;32m---> 11\u001b[0m \u001b[38;5;28;01mfrom\u001b[39;00m \u001b[38;5;21;01m.\u001b[39;00m \u001b[38;5;28;01mimport\u001b[39;00m exceptions\n\u001b[0;32m     12\u001b[0m \u001b[38;5;28;01mfrom\u001b[39;00m \u001b[38;5;21;01m.\u001b[39;00m\u001b[38;5;21;01m_version\u001b[39;00m \u001b[38;5;28;01mimport\u001b[39;00m __version__\n\u001b[0;32m     13\u001b[0m \u001b[38;5;28;01mfrom\u001b[39;00m \u001b[38;5;21;01m.\u001b[39;00m\u001b[38;5;21;01mconnectionpool\u001b[39;00m \u001b[38;5;28;01mimport\u001b[39;00m HTTPConnectionPool, HTTPSConnectionPool, connection_from_url\n",
      "File \u001b[1;32m~\\AppData\\Local\\Packages\\PythonSoftwareFoundation.Python.3.12_qbz5n2kfra8p0\\LocalCache\\local-packages\\Python312\\site-packages\\urllib3\\exceptions.py:3\u001b[0m\n\u001b[0;32m      1\u001b[0m \u001b[38;5;28;01mfrom\u001b[39;00m \u001b[38;5;21;01m__future__\u001b[39;00m \u001b[38;5;28;01mimport\u001b[39;00m absolute_import\n\u001b[1;32m----> 3\u001b[0m \u001b[38;5;28;01mfrom\u001b[39;00m \u001b[38;5;21;01m.\u001b[39;00m\u001b[38;5;21;01mpackages\u001b[39;00m\u001b[38;5;21;01m.\u001b[39;00m\u001b[38;5;21;01msix\u001b[39;00m\u001b[38;5;21;01m.\u001b[39;00m\u001b[38;5;21;01mmoves\u001b[39;00m\u001b[38;5;21;01m.\u001b[39;00m\u001b[38;5;21;01mhttp_client\u001b[39;00m \u001b[38;5;28;01mimport\u001b[39;00m IncompleteRead \u001b[38;5;28;01mas\u001b[39;00m httplib_IncompleteRead\n\u001b[0;32m      5\u001b[0m \u001b[38;5;66;03m# Base Exceptions\u001b[39;00m\n\u001b[0;32m      8\u001b[0m \u001b[38;5;28;01mclass\u001b[39;00m \u001b[38;5;21;01mHTTPError\u001b[39;00m(\u001b[38;5;167;01mException\u001b[39;00m):\n",
      "\u001b[1;31mModuleNotFoundError\u001b[0m: No module named 'urllib3.packages.six.moves'"
     ]
    }
   ],
   "source": [
    "# Importing Libraries\n",
    "import pandas as pd\n",
    "import requests"
   ]
  },
  {
   "cell_type": "code",
   "execution_count": 32,
   "metadata": {},
   "outputs": [],
   "source": [
    "# Load the dataset\n",
    "file_path = \"critic_reviews.csv\"  # Update the path if necessary\n",
    "df = pd.read_csv(file_path)"
   ]
  },
  {
   "cell_type": "markdown",
   "metadata": {},
   "source": [
    "2. Inspecting the Dataset"
   ]
  },
  {
   "cell_type": "code",
   "execution_count": null,
   "metadata": {},
   "outputs": [],
   "source": [
    "print(df.head())          # View the first few rows\n",
    "print(df.info())          # Check column data types and non-null values\n",
    "print(df.describe())      # Summary statistics for numerical columns\n",
    "print(df.isnull().sum())  # Count of missing values per column"
   ]
  },
  {
   "cell_type": "markdown",
   "metadata": {},
   "source": [
    "3. Data Cleaning"
   ]
  },
  {
   "cell_type": "code",
   "execution_count": null,
   "metadata": {},
   "outputs": [],
   "source": [
    "# Handling Missing Values\n",
    "df['criticName'] = df['criticName'].fillna(\"n/a\")\n",
    "df['criticPageUrl'] = df['criticPageUrl'].fillna(\"n/a\")\n",
    "\n",
    "# Using a placehold for missing numerical values\n",
    "df['originalScore'] = df['originalScore'].fillna(0)  # Replace with 0\n",
    "\n",
    "# Dropping irrelevant columns with missing values\n",
    "df = df.drop(columns = ['isRtUrl', 'reviewUrl', 'quote', 'publicationUrl'], errors = 'ignore')\n",
    "\n",
    "print(df.isnull().sum()) # Testing to make sure missing values are handled"
   ]
  },
  {
   "cell_type": "code",
   "execution_count": 35,
   "metadata": {},
   "outputs": [],
   "source": [
    "# Handling different inputs for originalScore\n",
    "\n",
    "def clean_original_score(value):\n",
    "    # Handle missing or placeholder values\n",
    "    if value == \"-1\" or pd.isnull(value):\n",
    "        return None  # Replace with NULL for SQL\n",
    "    \n",
    "    # Handle fractions like \"2.5/4\" or \"76/100\"\n",
    "    if isinstance(value, str) and \"/\" in value:\n",
    "        try:\n",
    "            numerator, denominator = map(float, value.split(\"/\"))\n",
    "            return numerator / denominator  # Convert to decimal\n",
    "        except ValueError:\n",
    "            return None  # If it fails to split correctly\n",
    "    \n",
    "    # Handle letter grades\n",
    "    letter_to_score = {\n",
    "        \"A\": 4.0, \"A-\": 3.7, \"B+\": 3.3, \"B\": 3.0, \"B-\": 2.7,\n",
    "        \"C+\": 2.3, \"C\": 2.0, \"C-\": 1.7, \"D\": 1.0, \"F\": 0.0\n",
    "    }\n",
    "    if value in letter_to_score:\n",
    "        return letter_to_score[value]\n",
    "    \n",
    "    # Handle date-like values (e.g., \"5-Apr\")\n",
    "    months = [\"jan\", \"feb\", \"mar\", \"apr\", \"may\", \"jun\", \"jul\", \"aug\", \"sep\", \"oct\", \"nov\", \"dec\"]\n",
    "    if isinstance(value, str) and any(month in value.lower() for month in months):\n",
    "        return None  # Replace with NULL for SQL\n",
    "    \n",
    "    # Handle direct numerical scores\n",
    "    try:\n",
    "        return float(value)\n",
    "    except ValueError:\n",
    "        return None  # If it can't be converted, replace with NULL\n",
    "\n",
    "df[\"originalScore\"] = df[\"originalScore\"].apply(clean_original_score)"
   ]
  },
  {
   "cell_type": "code",
   "execution_count": 36,
   "metadata": {},
   "outputs": [
    {
     "name": "stdout",
     "output_type": "stream",
     "text": [
      "0\n"
     ]
    }
   ],
   "source": [
    "# Checking for Duplicates\n",
    "print(df.duplicated(subset=['reviewId']).sum())"
   ]
  },
  {
   "cell_type": "code",
   "execution_count": 37,
   "metadata": {},
   "outputs": [],
   "source": [
    "# Standardizing Columns\n",
    "df['criticName'] = df['criticName'].str.lower()                 #Converting to lowercase for uniformity\n",
    "df['publicationName'] = df['publicationName'].str.lower()       #Converting to lowercase for uniformity\n"
   ]
  },
  {
   "cell_type": "code",
   "execution_count": 38,
   "metadata": {},
   "outputs": [],
   "source": [
    "# Exporting cleaned dataset\n",
    "df.to_csv(\"cleaned_originalScore.csv\", index=False)"
   ]
  }
 ],
 "metadata": {
  "kernelspec": {
   "display_name": "Python 3",
   "language": "python",
   "name": "python3"
  },
  "language_info": {
   "codemirror_mode": {
    "name": "ipython",
    "version": 3
   },
   "file_extension": ".py",
   "mimetype": "text/x-python",
   "name": "python",
   "nbconvert_exporter": "python",
   "pygments_lexer": "ipython3",
   "version": "3.12.7"
  }
 },
 "nbformat": 4,
 "nbformat_minor": 2
}
