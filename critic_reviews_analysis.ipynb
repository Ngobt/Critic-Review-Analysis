{
 "cells": [
  {
   "cell_type": "markdown",
   "metadata": {},
   "source": [
    "1. Importing Libraries and Data Set"
   ]
  },
  {
   "cell_type": "code",
   "execution_count": 1,
   "metadata": {},
   "outputs": [],
   "source": [
    "# Importing Libraries\n",
    "import pandas as pd"
   ]
  },
  {
   "cell_type": "code",
   "execution_count": 2,
   "metadata": {},
   "outputs": [],
   "source": [
    "# Load the dataset\n",
    "file_path = \"critic_reviews.csv\"  # Update the path if necessary\n",
    "df = pd.read_csv(file_path)"
   ]
  },
  {
   "cell_type": "markdown",
   "metadata": {},
   "source": [
    "2. Inspecting the Dataset"
   ]
  },
  {
   "cell_type": "code",
   "execution_count": 3,
   "metadata": {},
   "outputs": [
    {
     "name": "stdout",
     "output_type": "stream",
     "text": [
      "   reviewId creationDate      criticName            criticPageUrl reviewState  \\\n",
      "0   1912176   1966-07-30  Jennie Kermode  /critics/jennie-kermode       fresh   \n",
      "1   1895073   1998-08-21      Scott Nash      /critics/scott-nash       fresh   \n",
      "2     25507   2000-01-01     Roger Ebert     /critics/roger-ebert       fresh   \n",
      "3     25508   2000-01-01             NaN                      NaN      rotten   \n",
      "4     25509   2000-01-01       Joe Brown       /critics/joe-brown       fresh   \n",
      "\n",
      "   isFresh  isRotten isRtUrl  isTopCritic        publicationUrl  \\\n",
      "0     True     False   False        False  /critics/source/1869   \n",
      "1     True     False   False        False  /critics/source/1465   \n",
      "2     True     False   False         True    /critics/source/67   \n",
      "3    False      True   False         True   /critics/source/148   \n",
      "4     True     False   False         True   /critics/source/474   \n",
      "\n",
      "     publicationName                                          reviewUrl  \\\n",
      "0       Eye for Film    http://www.eyeforfilm.co.uk/reviews.php?id=7898   \n",
      "1  Three Movie Buffs        http://www.threemoviebuffs.com/review/blade   \n",
      "2  Chicago Sun-Times  http://www.rogerebert.com/reviews/the-rocketee...   \n",
      "3    Empire Magazine  http://www.empireonline.com/reviews/reviewcomp...   \n",
      "4    Washington Post  http://www.washingtonpost.com/wp-srv/style/lon...   \n",
      "\n",
      "                                               quote scoreSentiment  \\\n",
      "0                                                NaN       POSITIVE   \n",
      "1  It's stylish and fast-paced. It's also a lot o...       POSITIVE   \n",
      "2  You have to dial down, to return to an age of ...       POSITIVE   \n",
      "3        Reaches for the skies but runs out of fuel.       NEGATIVE   \n",
      "4  Based on a comic book, deliciously corny but n...       POSITIVE   \n",
      "\n",
      "  originalScore                               movieId  \n",
      "0           4/5  7602d2ab-c9bc-3439-9cd6-d3a06e81728e  \n",
      "1           3/4  4128b2f6-8c69-396a-a83d-0d44eb90e5f7  \n",
      "2           3/4  01935e47-e735-30c3-b8bd-72a9dbbcfa8a  \n",
      "3           2/5  01935e47-e735-30c3-b8bd-72a9dbbcfa8a  \n",
      "4           NaN  01935e47-e735-30c3-b8bd-72a9dbbcfa8a  \n",
      "<class 'pandas.core.frame.DataFrame'>\n",
      "RangeIndex: 27142 entries, 0 to 27141\n",
      "Data columns (total 16 columns):\n",
      " #   Column           Non-Null Count  Dtype \n",
      "---  ------           --------------  ----- \n",
      " 0   reviewId         27142 non-null  int64 \n",
      " 1   creationDate     27142 non-null  object\n",
      " 2   criticName       27054 non-null  object\n",
      " 3   criticPageUrl    27054 non-null  object\n",
      " 4   reviewState      27142 non-null  object\n",
      " 5   isFresh          27142 non-null  bool  \n",
      " 6   isRotten         27142 non-null  bool  \n",
      " 7   isRtUrl          26513 non-null  object\n",
      " 8   isTopCritic      27142 non-null  bool  \n",
      " 9   publicationUrl   27142 non-null  object\n",
      " 10  publicationName  27142 non-null  object\n",
      " 11  reviewUrl        25077 non-null  object\n",
      " 12  quote            26953 non-null  object\n",
      " 13  scoreSentiment   27142 non-null  object\n",
      " 14  originalScore    19413 non-null  object\n",
      " 15  movieId          27142 non-null  object\n",
      "dtypes: bool(3), int64(1), object(12)\n",
      "memory usage: 2.8+ MB\n",
      "None\n",
      "           reviewId\n",
      "count  2.714200e+04\n",
      "mean   1.628587e+07\n",
      "std    3.493963e+07\n",
      "min    1.705000e+03\n",
      "25%    2.082886e+06\n",
      "50%    2.407968e+06\n",
      "75%    2.667693e+06\n",
      "max    1.029234e+08\n",
      "reviewId              0\n",
      "creationDate          0\n",
      "criticName           88\n",
      "criticPageUrl        88\n",
      "reviewState           0\n",
      "isFresh               0\n",
      "isRotten              0\n",
      "isRtUrl             629\n",
      "isTopCritic           0\n",
      "publicationUrl        0\n",
      "publicationName       0\n",
      "reviewUrl          2065\n",
      "quote               189\n",
      "scoreSentiment        0\n",
      "originalScore      7729\n",
      "movieId               0\n",
      "dtype: int64\n"
     ]
    }
   ],
   "source": [
    "print(df.head())          # View the first few rows\n",
    "print(df.info())          # Check column data types and non-null values\n",
    "print(df.describe())      # Summary statistics for numerical columns\n",
    "print(df.isnull().sum())  # Count of missing values per column"
   ]
  },
  {
   "cell_type": "markdown",
   "metadata": {},
   "source": [
    "3. Data Cleaning"
   ]
  },
  {
   "cell_type": "code",
   "execution_count": 4,
   "metadata": {},
   "outputs": [
    {
     "name": "stdout",
     "output_type": "stream",
     "text": [
      "reviewId           0\n",
      "creationDate       0\n",
      "criticName         0\n",
      "criticPageUrl      0\n",
      "reviewState        0\n",
      "isFresh            0\n",
      "isRotten           0\n",
      "isTopCritic        0\n",
      "publicationUrl     0\n",
      "publicationName    0\n",
      "scoreSentiment     0\n",
      "originalScore      0\n",
      "movieId            0\n",
      "dtype: int64\n"
     ]
    }
   ],
   "source": [
    "# Handling Missing Values\n",
    "df['criticName'] = df['criticName'].fillna(\"N/A\")\n",
    "df['criticPageUrl'] = df['criticPageUrl'].fillna(\"N/A\")\n",
    "\n",
    "# Using a placehold for missing numerical values\n",
    "df['originalScore'] =df['originalScore'].fillna(-1)\n",
    "\n",
    "# Dropping irrelevant columns with missing values\n",
    "df = df.drop(columns = ['isRtUrl', 'reviewUrl', 'quote'], errors = 'ignore')\n",
    "\n",
    "print(df.isnull().sum()) # Testing to make sure missing values are handled"
   ]
  },
  {
   "cell_type": "code",
   "execution_count": 5,
   "metadata": {},
   "outputs": [
    {
     "name": "stdout",
     "output_type": "stream",
     "text": [
      "0\n"
     ]
    }
   ],
   "source": [
    "# Checking for Duplicates\n",
    "print(df.duplicated(subset=['reviewId']).sum())"
   ]
  },
  {
   "cell_type": "code",
   "execution_count": 6,
   "metadata": {},
   "outputs": [
    {
     "name": "stdout",
     "output_type": "stream",
     "text": [
      "0        07-30-1966\n",
      "1        08-21-1998\n",
      "2        01-01-2000\n",
      "3        01-01-2000\n",
      "4        01-01-2000\n",
      "            ...    \n",
      "27137    06-14-2024\n",
      "27138    06-15-2024\n",
      "27139    06-17-2024\n",
      "27140    06-24-2024\n",
      "27141    06-24-2024\n",
      "Name: creationDate, Length: 27142, dtype: object\n"
     ]
    }
   ],
   "source": [
    "# Standardizing Columns\n",
    "df['criticName'] = df['criticName'].str.lower()                 #Converting to lowercase for uniformity\n",
    "df['publicationName'] = df['publicationName'].str.lower()       #Converting to lowercase for uniformity\n",
    "\n",
    "# Converting to a proper datetime format for easier processing\n",
    "df['creationDate'] = pd.to_datetime(df['creationDate'])\n",
    "df['creationDate'] = df['creationDate'].dt.strftime('%m-%d-%Y')\n",
    "\n",
    "print(df['creationDate'])"
   ]
  },
  {
   "cell_type": "code",
   "execution_count": 7,
   "metadata": {},
   "outputs": [],
   "source": [
    "# Exporting cleaned dataset\n",
    "df.to_csv(\"cleaned_critic.reviews.csv\", index=False)"
   ]
  }
 ],
 "metadata": {
  "kernelspec": {
   "display_name": "Python 3",
   "language": "python",
   "name": "python3"
  },
  "language_info": {
   "codemirror_mode": {
    "name": "ipython",
    "version": 3
   },
   "file_extension": ".py",
   "mimetype": "text/x-python",
   "name": "python",
   "nbconvert_exporter": "python",
   "pygments_lexer": "ipython3",
   "version": "3.12.7"
  }
 },
 "nbformat": 4,
 "nbformat_minor": 2
}
